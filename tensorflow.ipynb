{
 "cells": [
  {
   "cell_type": "code",
   "execution_count": 1,
   "metadata": {
    "collapsed": true
   },
   "outputs": [],
   "source": [
    "import tensorflow as tf"
   ]
  },
  {
   "cell_type": "code",
   "execution_count": 23,
   "metadata": {
    "collapsed": true
   },
   "outputs": [],
   "source": [
    "import numpy as np\n",
    "import pandas as pd"
   ]
  },
  {
   "cell_type": "code",
   "execution_count": 2,
   "metadata": {
    "collapsed": true
   },
   "outputs": [],
   "source": [
    "x = tf.placeholder(tf.string)"
   ]
  },
  {
   "cell_type": "code",
   "execution_count": 4,
   "metadata": {},
   "outputs": [
    {
     "data": {
      "text/plain": [
       "array('hello', dtype=object)"
      ]
     },
     "execution_count": 4,
     "metadata": {},
     "output_type": "execute_result"
    }
   ],
   "source": [
    "with tf.Session() as sess:\n",
    "    out = sess.run(x, feed_dict={x: 'hello'})\n",
    "\n",
    "out"
   ]
  },
  {
   "cell_type": "code",
   "execution_count": 10,
   "metadata": {},
   "outputs": [],
   "source": [
    "y = tf.placeholder(tf.string)\n",
    "z = tf.placeholder(tf.float64)"
   ]
  },
  {
   "cell_type": "code",
   "execution_count": 12,
   "metadata": {},
   "outputs": [
    {
     "data": {
      "text/plain": [
       "array('sd', dtype=object)"
      ]
     },
     "execution_count": 12,
     "metadata": {},
     "output_type": "execute_result"
    }
   ],
   "source": [
    "with tf.Session() as sess:\n",
    "    out = sess.run(x, feed_dict={x: 'sd', z: 23.1})\n",
    "\n",
    "out"
   ]
  },
  {
   "cell_type": "markdown",
   "metadata": {},
   "source": [
    "## Linear functions in TensorFlow"
   ]
  },
  {
   "cell_type": "markdown",
   "metadata": {},
   "source": [
    "### Variable Value"
   ]
  },
  {
   "cell_type": "code",
   "execution_count": 13,
   "metadata": {
    "collapsed": true
   },
   "outputs": [],
   "source": [
    "x = tf.Variable(5)"
   ]
  },
  {
   "cell_type": "code",
   "execution_count": 15,
   "metadata": {
    "collapsed": true
   },
   "outputs": [
    {
     "ename": "FailedPreconditionError",
     "evalue": "Attempting to use uninitialized value Variable\n\t [[Node: _send_Variable_0 = _Send[T=DT_INT32, client_terminated=true, recv_device=\"/job:localhost/replica:0/task:0/cpu:0\", send_device=\"/job:localhost/replica:0/task:0/cpu:0\", send_device_incarnation=-2435528620273360348, tensor_name=\"Variable:0\", _device=\"/job:localhost/replica:0/task:0/cpu:0\"](Variable)]]",
     "output_type": "error",
     "traceback": [
      "\u001b[0;31m---------------------------------------------------------------------------\u001b[0m",
      "\u001b[0;31mFailedPreconditionError\u001b[0m                   Traceback (most recent call last)",
      "\u001b[0;32m~/anaconda3/lib/python3.6/site-packages/tensorflow/python/client/session.py\u001b[0m in \u001b[0;36m_do_call\u001b[0;34m(self, fn, *args)\u001b[0m\n\u001b[1;32m   1021\u001b[0m     \u001b[0;32mtry\u001b[0m\u001b[0;34m:\u001b[0m\u001b[0;34m\u001b[0m\u001b[0m\n\u001b[0;32m-> 1022\u001b[0;31m       \u001b[0;32mreturn\u001b[0m \u001b[0mfn\u001b[0m\u001b[0;34m(\u001b[0m\u001b[0;34m*\u001b[0m\u001b[0margs\u001b[0m\u001b[0;34m)\u001b[0m\u001b[0;34m\u001b[0m\u001b[0m\n\u001b[0m\u001b[1;32m   1023\u001b[0m     \u001b[0;32mexcept\u001b[0m \u001b[0merrors\u001b[0m\u001b[0;34m.\u001b[0m\u001b[0mOpError\u001b[0m \u001b[0;32mas\u001b[0m \u001b[0me\u001b[0m\u001b[0;34m:\u001b[0m\u001b[0;34m\u001b[0m\u001b[0m\n",
      "\u001b[0;32m~/anaconda3/lib/python3.6/site-packages/tensorflow/python/client/session.py\u001b[0m in \u001b[0;36m_run_fn\u001b[0;34m(session, feed_dict, fetch_list, target_list, options, run_metadata)\u001b[0m\n\u001b[1;32m   1003\u001b[0m                                  \u001b[0mfeed_dict\u001b[0m\u001b[0;34m,\u001b[0m \u001b[0mfetch_list\u001b[0m\u001b[0;34m,\u001b[0m \u001b[0mtarget_list\u001b[0m\u001b[0;34m,\u001b[0m\u001b[0;34m\u001b[0m\u001b[0m\n\u001b[0;32m-> 1004\u001b[0;31m                                  status, run_metadata)\n\u001b[0m\u001b[1;32m   1005\u001b[0m \u001b[0;34m\u001b[0m\u001b[0m\n",
      "\u001b[0;32m~/anaconda3/lib/python3.6/contextlib.py\u001b[0m in \u001b[0;36m__exit__\u001b[0;34m(self, type, value, traceback)\u001b[0m\n\u001b[1;32m     87\u001b[0m             \u001b[0;32mtry\u001b[0m\u001b[0;34m:\u001b[0m\u001b[0;34m\u001b[0m\u001b[0m\n\u001b[0;32m---> 88\u001b[0;31m                 \u001b[0mnext\u001b[0m\u001b[0;34m(\u001b[0m\u001b[0mself\u001b[0m\u001b[0;34m.\u001b[0m\u001b[0mgen\u001b[0m\u001b[0;34m)\u001b[0m\u001b[0;34m\u001b[0m\u001b[0m\n\u001b[0m\u001b[1;32m     89\u001b[0m             \u001b[0;32mexcept\u001b[0m \u001b[0mStopIteration\u001b[0m\u001b[0;34m:\u001b[0m\u001b[0;34m\u001b[0m\u001b[0m\n",
      "\u001b[0;32m~/anaconda3/lib/python3.6/site-packages/tensorflow/python/framework/errors_impl.py\u001b[0m in \u001b[0;36mraise_exception_on_not_ok_status\u001b[0;34m()\u001b[0m\n\u001b[1;32m    465\u001b[0m           \u001b[0mcompat\u001b[0m\u001b[0;34m.\u001b[0m\u001b[0mas_text\u001b[0m\u001b[0;34m(\u001b[0m\u001b[0mpywrap_tensorflow\u001b[0m\u001b[0;34m.\u001b[0m\u001b[0mTF_Message\u001b[0m\u001b[0;34m(\u001b[0m\u001b[0mstatus\u001b[0m\u001b[0;34m)\u001b[0m\u001b[0;34m)\u001b[0m\u001b[0;34m,\u001b[0m\u001b[0;34m\u001b[0m\u001b[0m\n\u001b[0;32m--> 466\u001b[0;31m           pywrap_tensorflow.TF_GetCode(status))\n\u001b[0m\u001b[1;32m    467\u001b[0m   \u001b[0;32mfinally\u001b[0m\u001b[0;34m:\u001b[0m\u001b[0;34m\u001b[0m\u001b[0m\n",
      "\u001b[0;31mFailedPreconditionError\u001b[0m: Attempting to use uninitialized value Variable\n\t [[Node: _send_Variable_0 = _Send[T=DT_INT32, client_terminated=true, recv_device=\"/job:localhost/replica:0/task:0/cpu:0\", send_device=\"/job:localhost/replica:0/task:0/cpu:0\", send_device_incarnation=-2435528620273360348, tensor_name=\"Variable:0\", _device=\"/job:localhost/replica:0/task:0/cpu:0\"](Variable)]]",
      "\nDuring handling of the above exception, another exception occurred:\n",
      "\u001b[0;31mFailedPreconditionError\u001b[0m                   Traceback (most recent call last)",
      "\u001b[0;32m<ipython-input-15-12388c96aeef>\u001b[0m in \u001b[0;36m<module>\u001b[0;34m()\u001b[0m\n\u001b[1;32m      1\u001b[0m \u001b[0;32mwith\u001b[0m \u001b[0mtf\u001b[0m\u001b[0;34m.\u001b[0m\u001b[0mSession\u001b[0m\u001b[0;34m(\u001b[0m\u001b[0;34m)\u001b[0m \u001b[0;32mas\u001b[0m \u001b[0msess\u001b[0m\u001b[0;34m:\u001b[0m\u001b[0;34m\u001b[0m\u001b[0m\n\u001b[0;32m----> 2\u001b[0;31m     \u001b[0mout\u001b[0m \u001b[0;34m=\u001b[0m \u001b[0msess\u001b[0m\u001b[0;34m.\u001b[0m\u001b[0mrun\u001b[0m\u001b[0;34m(\u001b[0m\u001b[0mx\u001b[0m\u001b[0;34m)\u001b[0m\u001b[0;34m\u001b[0m\u001b[0m\n\u001b[0m\u001b[1;32m      3\u001b[0m     \u001b[0mprint\u001b[0m\u001b[0;34m(\u001b[0m\u001b[0mout\u001b[0m\u001b[0;34m)\u001b[0m\u001b[0;34m\u001b[0m\u001b[0m\n",
      "\u001b[0;32m~/anaconda3/lib/python3.6/site-packages/tensorflow/python/client/session.py\u001b[0m in \u001b[0;36mrun\u001b[0;34m(self, fetches, feed_dict, options, run_metadata)\u001b[0m\n\u001b[1;32m    765\u001b[0m     \u001b[0;32mtry\u001b[0m\u001b[0;34m:\u001b[0m\u001b[0;34m\u001b[0m\u001b[0m\n\u001b[1;32m    766\u001b[0m       result = self._run(None, fetches, feed_dict, options_ptr,\n\u001b[0;32m--> 767\u001b[0;31m                          run_metadata_ptr)\n\u001b[0m\u001b[1;32m    768\u001b[0m       \u001b[0;32mif\u001b[0m \u001b[0mrun_metadata\u001b[0m\u001b[0;34m:\u001b[0m\u001b[0;34m\u001b[0m\u001b[0m\n\u001b[1;32m    769\u001b[0m         \u001b[0mproto_data\u001b[0m \u001b[0;34m=\u001b[0m \u001b[0mtf_session\u001b[0m\u001b[0;34m.\u001b[0m\u001b[0mTF_GetBuffer\u001b[0m\u001b[0;34m(\u001b[0m\u001b[0mrun_metadata_ptr\u001b[0m\u001b[0;34m)\u001b[0m\u001b[0;34m\u001b[0m\u001b[0m\n",
      "\u001b[0;32m~/anaconda3/lib/python3.6/site-packages/tensorflow/python/client/session.py\u001b[0m in \u001b[0;36m_run\u001b[0;34m(self, handle, fetches, feed_dict, options, run_metadata)\u001b[0m\n\u001b[1;32m    963\u001b[0m     \u001b[0;32mif\u001b[0m \u001b[0mfinal_fetches\u001b[0m \u001b[0;32mor\u001b[0m \u001b[0mfinal_targets\u001b[0m\u001b[0;34m:\u001b[0m\u001b[0;34m\u001b[0m\u001b[0m\n\u001b[1;32m    964\u001b[0m       results = self._do_run(handle, final_targets, final_fetches,\n\u001b[0;32m--> 965\u001b[0;31m                              feed_dict_string, options, run_metadata)\n\u001b[0m\u001b[1;32m    966\u001b[0m     \u001b[0;32melse\u001b[0m\u001b[0;34m:\u001b[0m\u001b[0;34m\u001b[0m\u001b[0m\n\u001b[1;32m    967\u001b[0m       \u001b[0mresults\u001b[0m \u001b[0;34m=\u001b[0m \u001b[0;34m[\u001b[0m\u001b[0;34m]\u001b[0m\u001b[0;34m\u001b[0m\u001b[0m\n",
      "\u001b[0;32m~/anaconda3/lib/python3.6/site-packages/tensorflow/python/client/session.py\u001b[0m in \u001b[0;36m_do_run\u001b[0;34m(self, handle, target_list, fetch_list, feed_dict, options, run_metadata)\u001b[0m\n\u001b[1;32m   1013\u001b[0m     \u001b[0;32mif\u001b[0m \u001b[0mhandle\u001b[0m \u001b[0;32mis\u001b[0m \u001b[0;32mNone\u001b[0m\u001b[0;34m:\u001b[0m\u001b[0;34m\u001b[0m\u001b[0m\n\u001b[1;32m   1014\u001b[0m       return self._do_call(_run_fn, self._session, feed_dict, fetch_list,\n\u001b[0;32m-> 1015\u001b[0;31m                            target_list, options, run_metadata)\n\u001b[0m\u001b[1;32m   1016\u001b[0m     \u001b[0;32melse\u001b[0m\u001b[0;34m:\u001b[0m\u001b[0;34m\u001b[0m\u001b[0m\n\u001b[1;32m   1017\u001b[0m       return self._do_call(_prun_fn, self._session, handle, feed_dict,\n",
      "\u001b[0;32m~/anaconda3/lib/python3.6/site-packages/tensorflow/python/client/session.py\u001b[0m in \u001b[0;36m_do_call\u001b[0;34m(self, fn, *args)\u001b[0m\n\u001b[1;32m   1033\u001b[0m         \u001b[0;32mexcept\u001b[0m \u001b[0mKeyError\u001b[0m\u001b[0;34m:\u001b[0m\u001b[0;34m\u001b[0m\u001b[0m\n\u001b[1;32m   1034\u001b[0m           \u001b[0;32mpass\u001b[0m\u001b[0;34m\u001b[0m\u001b[0m\n\u001b[0;32m-> 1035\u001b[0;31m       \u001b[0;32mraise\u001b[0m \u001b[0mtype\u001b[0m\u001b[0;34m(\u001b[0m\u001b[0me\u001b[0m\u001b[0;34m)\u001b[0m\u001b[0;34m(\u001b[0m\u001b[0mnode_def\u001b[0m\u001b[0;34m,\u001b[0m \u001b[0mop\u001b[0m\u001b[0;34m,\u001b[0m \u001b[0mmessage\u001b[0m\u001b[0;34m)\u001b[0m\u001b[0;34m\u001b[0m\u001b[0m\n\u001b[0m\u001b[1;32m   1036\u001b[0m \u001b[0;34m\u001b[0m\u001b[0m\n\u001b[1;32m   1037\u001b[0m   \u001b[0;32mdef\u001b[0m \u001b[0m_extend_graph\u001b[0m\u001b[0;34m(\u001b[0m\u001b[0mself\u001b[0m\u001b[0;34m)\u001b[0m\u001b[0;34m:\u001b[0m\u001b[0;34m\u001b[0m\u001b[0m\n",
      "\u001b[0;31mFailedPreconditionError\u001b[0m: Attempting to use uninitialized value Variable\n\t [[Node: _send_Variable_0 = _Send[T=DT_INT32, client_terminated=true, recv_device=\"/job:localhost/replica:0/task:0/cpu:0\", send_device=\"/job:localhost/replica:0/task:0/cpu:0\", send_device_incarnation=-2435528620273360348, tensor_name=\"Variable:0\", _device=\"/job:localhost/replica:0/task:0/cpu:0\"](Variable)]]"
     ]
    }
   ],
   "source": [
    "with tf.Session() as sess:\n",
    "    out = sess.run(x)\n",
    "    print(out)"
   ]
  },
  {
   "cell_type": "markdown",
   "metadata": {},
   "source": [
    "## run tf.global_variables_initializer()\n",
    "before run variable"
   ]
  },
  {
   "cell_type": "code",
   "execution_count": 16,
   "metadata": {},
   "outputs": [
    {
     "name": "stdout",
     "output_type": "stream",
     "text": [
      "5\n"
     ]
    }
   ],
   "source": [
    "init = tf.global_variables_initializer()\n",
    "with tf.Session() as sess:\n",
    "    sess.run(init)\n",
    "    out = sess.run(x)\n",
    "    print(out)"
   ]
  },
  {
   "cell_type": "code",
   "execution_count": 19,
   "metadata": {},
   "outputs": [],
   "source": [
    "features = 120\n",
    "labels = 5\n",
    "weights = tf.Variable(tf.truncated_normal((features, labels)))"
   ]
  },
  {
   "cell_type": "code",
   "execution_count": 21,
   "metadata": {},
   "outputs": [
    {
     "name": "stdout",
     "output_type": "stream",
     "text": [
      "[[ 4.55399990e-01 -2.82819271e-01 -5.55446029e-01 -1.41646966e-01\n",
      "  -1.86546668e-01]\n",
      " [ 5.57281196e-01  4.67667937e-01  6.00399852e-01 -1.14741671e+00\n",
      "  -4.05645579e-01]\n",
      " [ 1.31962526e+00  4.27463502e-02 -2.96465963e-01  1.22880116e-01\n",
      "   6.19658589e-01]\n",
      " [-1.16359997e+00  2.79428989e-01 -4.31600094e-01 -5.98662496e-01\n",
      "  -5.56701839e-01]\n",
      " [ 2.71432132e-01  1.30428338e+00  2.63353497e-01  8.18423867e-01\n",
      "   3.38190436e-01]\n",
      " [ 6.11460030e-01  1.40603244e+00  4.96269733e-01 -4.57054734e-01\n",
      "   3.90063792e-01]\n",
      " [ 2.99072802e-01 -5.15648842e-01 -1.52936208e+00  6.68457091e-01\n",
      "  -1.67348778e+00]\n",
      " [-5.48426330e-01  2.36043409e-01 -1.59586155e+00  6.68756843e-01\n",
      "   3.47890645e-01]\n",
      " [-1.11102152e+00  9.68882382e-01 -1.83477128e+00  2.89791375e-01\n",
      "   1.42614973e+00]\n",
      " [ 1.28431225e+00  5.09505093e-01  9.65084553e-01 -1.83943915e+00\n",
      "  -1.20591581e+00]\n",
      " [ 3.75360399e-01 -8.18412185e-01 -4.53563839e-01  3.36917102e-01\n",
      "  -1.07867324e+00]\n",
      " [-6.04852140e-01 -1.26654983e+00 -1.21522260e+00 -5.04581816e-02\n",
      "  -4.68985349e-01]\n",
      " [-4.17887606e-02  1.04477823e+00  5.45103192e-01  4.06503677e-01\n",
      "  -5.21354854e-01]\n",
      " [-1.13022411e+00 -7.57083118e-01 -1.95579851e+00 -6.19254470e-01\n",
      "  -5.90200350e-03]\n",
      " [-7.64137089e-01  8.29153478e-01 -1.52555215e+00 -1.68925542e-02\n",
      "   2.13666275e-01]\n",
      " [-3.31429780e-01  1.01406062e+00  1.36203313e+00  1.09603979e-01\n",
      "   5.60675979e-01]\n",
      " [-1.74397969e+00 -4.14541751e-01 -1.01833808e+00  5.91826476e-02\n",
      "   4.82116193e-01]\n",
      " [ 1.21504761e-01  8.31461906e-01  1.31139362e+00  4.70594406e-01\n",
      "  -9.01193857e-01]\n",
      " [ 7.07801282e-01  1.25476587e+00  3.26411843e-01 -2.97780871e-01\n",
      "   2.25191265e-02]\n",
      " [ 6.53485179e-01  8.70616674e-01 -1.09350634e+00  2.75228053e-01\n",
      "   4.59901877e-02]\n",
      " [ 5.51183522e-01  5.25790513e-01 -1.62140861e-01 -3.07927161e-01\n",
      "  -3.83001447e-01]\n",
      " [-1.44734967e+00 -2.08472759e-01 -1.27741468e+00 -1.36577678e+00\n",
      "   9.01383877e-01]\n",
      " [ 3.05300336e-02  3.22013884e-03  3.31708252e-01 -7.90299833e-01\n",
      "  -7.68222570e-01]\n",
      " [-2.81120032e-01  1.27912056e+00  1.32384360e+00  1.05553195e-01\n",
      "   8.28352630e-01]\n",
      " [ 1.32417560e-01 -9.11389768e-01  7.37333205e-03 -1.07154965e+00\n",
      "   1.28223729e+00]\n",
      " [ 3.16495717e-01 -1.39969993e+00 -3.75970602e-01  6.82865441e-01\n",
      "   5.27379327e-02]\n",
      " [ 6.91558838e-01  5.88510573e-01 -5.01195967e-01 -1.56221628e+00\n",
      "   2.39120841e-01]\n",
      " [-2.25877002e-01 -2.87891328e-01  8.44908357e-01  1.40463173e+00\n",
      "  -7.27926075e-01]\n",
      " [-6.38954043e-01 -4.01743293e-01  8.09157133e-01 -1.94355831e-01\n",
      "  -1.18260831e-01]\n",
      " [ 3.03776991e-02  1.73115933e+00  7.57114232e-01  1.17172551e+00\n",
      "  -3.88427615e-01]\n",
      " [ 3.05223256e-01  1.17889023e+00  8.65787804e-01  1.52371669e+00\n",
      "   1.31932497e+00]\n",
      " [ 5.77460885e-01  8.94353867e-01  4.10016209e-01 -2.68418252e-01\n",
      "   1.13027763e+00]\n",
      " [-1.45273578e+00 -9.67762843e-02 -1.87485993e+00  7.63538778e-01\n",
      "   3.52900058e-01]\n",
      " [ 7.26072192e-01 -3.97676602e-02 -1.02461886e+00 -1.07702422e+00\n",
      "  -8.43138874e-01]\n",
      " [-8.40054080e-02 -1.92209399e+00 -1.09070337e+00  1.31104684e+00\n",
      "   3.97628695e-01]\n",
      " [-3.65115970e-01 -7.08240986e-01 -2.83563703e-01 -1.05717456e+00\n",
      "   1.30817997e+00]\n",
      " [-1.65664643e-01 -1.54016241e-01 -1.55612195e+00  1.21631372e+00\n",
      "   8.96349847e-01]\n",
      " [ 9.89940763e-01 -5.04750788e-01 -1.82256460e+00 -1.61647201e+00\n",
      "  -7.91206121e-01]\n",
      " [ 7.97157228e-01 -2.55330712e-01 -8.50722075e-01 -1.66155040e+00\n",
      "   1.90135288e+00]\n",
      " [-1.05336457e-01  4.48810011e-01  1.46222615e+00 -9.91457283e-01\n",
      "  -1.48147023e+00]\n",
      " [-5.79440892e-01 -2.24618152e-01  4.19429928e-01  1.50188193e-01\n",
      "   7.90336430e-01]\n",
      " [-2.86980182e-01  7.38783956e-01  3.72426212e-01 -1.41464949e+00\n",
      "   8.26697171e-01]\n",
      " [ 8.73813629e-01 -1.41768646e+00 -1.75265741e+00  8.75093460e-01\n",
      "   1.04673934e+00]\n",
      " [-9.40991402e-01  6.72611773e-01  1.15820158e+00 -1.05463289e-01\n",
      "  -1.89324617e-01]\n",
      " [ 3.66403013e-01  1.81833899e+00  2.47449026e-01  1.39673245e+00\n",
      "  -6.82983398e-01]\n",
      " [-1.58944488e+00  3.61575484e-01  4.50443566e-01 -4.37799424e-01\n",
      "   1.24319541e+00]\n",
      " [ 1.22765064e+00 -3.98529619e-01 -7.19670951e-01  8.20264757e-01\n",
      "  -7.86980569e-01]\n",
      " [ 1.32674038e+00 -2.46538028e-01  3.09641629e-01  7.02800035e-01\n",
      "  -3.52911800e-01]\n",
      " [-7.04760075e-01  1.53992236e+00  9.02214110e-01  2.38924041e-01\n",
      "   1.60862238e-03]\n",
      " [ 4.80285734e-01 -9.90275264e-01  4.76089627e-01 -6.98144913e-01\n",
      "   5.37828624e-01]\n",
      " [-1.29810274e+00 -7.76438475e-01  1.03837848e+00 -7.45920241e-01\n",
      "  -4.32613581e-01]\n",
      " [-1.69816768e+00  8.65854025e-01 -1.51844427e-01 -1.44711304e+00\n",
      "   9.87548292e-01]\n",
      " [-5.30186594e-02 -5.11230230e-01 -8.38500142e-01 -2.21627831e-01\n",
      "   1.41506767e+00]\n",
      " [-3.91523302e-01  2.86407262e-01 -1.52174592e+00 -1.67609823e+00\n",
      "   1.84970939e+00]\n",
      " [-8.56816828e-01  1.09713292e+00 -5.99521756e-01  4.38596636e-01\n",
      "   1.43530154e+00]\n",
      " [-4.38884258e-01 -4.99262452e-01  6.10695243e-01 -7.40434229e-01\n",
      "   5.61639011e-01]\n",
      " [ 1.13849044e+00  5.74327469e-01 -6.05282605e-01  1.21492013e-01\n",
      "  -9.98889506e-01]\n",
      " [-1.45157599e+00  1.77826357e+00 -6.42643094e-01  1.13289893e+00\n",
      "   4.49839175e-01]\n",
      " [-1.37367189e+00  1.39636767e+00 -3.88693690e-01 -6.02698803e-01\n",
      "  -1.52761948e+00]\n",
      " [ 2.10383564e-01 -1.39280033e+00 -2.68087029e-01 -1.17250407e+00\n",
      "  -1.71741390e+00]\n",
      " [-4.64693159e-01 -6.50902271e-01  1.07933533e+00 -3.99480492e-01\n",
      "  -8.02756473e-03]\n",
      " [ 3.26517880e-01 -8.68283391e-01 -3.93190444e-01 -1.35653710e+00\n",
      "   8.89765501e-01]\n",
      " [ 7.65801251e-01 -8.10939550e-01  4.08161394e-02  9.45644155e-02\n",
      "   6.78783238e-01]\n",
      " [ 1.94674239e-01  3.77013348e-02 -8.11515749e-01  6.68884575e-01\n",
      "  -1.65268838e+00]\n",
      " [ 1.06705296e+00  6.16767168e-01 -1.22539079e+00  1.54267991e+00\n",
      "   2.46260762e-01]\n",
      " [-1.05827796e+00  1.14781633e-01 -6.25125289e-01 -1.21680152e+00\n",
      "   7.93782711e-01]\n",
      " [ 8.62184837e-02  8.99071455e-01 -6.13461792e-01 -2.56527215e-01\n",
      "  -1.12794971e+00]\n",
      " [-4.77045566e-01 -1.05329776e+00 -1.75751507e+00 -1.14486468e+00\n",
      "  -9.51148510e-01]\n",
      " [ 6.47696018e-01  1.91448712e+00  3.53288859e-01 -7.20617354e-01\n",
      "   6.42087758e-01]\n",
      " [ 1.62054574e+00  2.67778635e-01 -4.68172014e-01 -2.39263415e-01\n",
      "   1.76731598e+00]\n",
      " [-2.78771490e-01  3.59552413e-01 -1.57390881e+00 -2.70554751e-01\n",
      "  -5.97196817e-01]\n",
      " [ 2.34198809e-01  7.18253255e-01  1.76593140e-01 -1.23070037e+00\n",
      "  -1.51595342e+00]\n",
      " [ 1.85464752e+00 -1.26990482e-01  2.26124570e-01 -8.91366363e-01\n",
      "  -5.54718673e-01]\n",
      " [-1.30082440e+00 -9.88318920e-01  2.06148446e-01  5.70445955e-01\n",
      "  -6.15870655e-01]\n",
      " [ 7.65129805e-01 -5.88294148e-01  5.35120070e-01 -1.07857990e+00\n",
      "   2.79409289e-01]\n",
      " [ 6.34025455e-01  1.13249886e+00 -1.13020229e+00  3.37201506e-01\n",
      "   8.04627597e-01]\n",
      " [ 8.43699396e-01 -1.38572052e-01 -1.42686009e+00 -2.85970330e-01\n",
      "   5.99849403e-01]\n",
      " [-5.18427968e-01 -7.44360089e-01  1.24583244e-01  9.73621666e-01\n",
      "   2.08803043e-02]\n",
      " [-5.90468764e-01  1.10570300e+00 -1.49152017e+00 -9.32801515e-02\n",
      "  -2.48343140e-01]\n",
      " [ 1.24890137e+00  1.44223535e+00  9.52657938e-01  1.16238870e-01\n",
      "   1.55793285e+00]\n",
      " [-1.52869713e+00 -8.83723259e-01  4.04992402e-01 -9.85107660e-01\n",
      "  -1.02002048e+00]\n",
      " [ 9.37294662e-01 -1.27139226e-01  4.97661501e-01 -5.81658185e-02\n",
      "  -1.05227208e+00]\n",
      " [-1.20894209e-01  6.70686722e-01  1.21779704e+00 -8.71174157e-01\n",
      "  -3.98252718e-02]\n",
      " [ 8.05770457e-01 -2.68010944e-01 -6.93498433e-01  2.13510707e-01\n",
      "   1.44268230e-01]\n",
      " [ 8.74532878e-01  6.44482732e-01 -8.00415874e-01  6.05231047e-01\n",
      "  -1.17748022e+00]\n",
      " [ 3.07842165e-01  4.29604739e-01  2.34083176e-01  1.44613552e+00\n",
      "  -1.23663414e+00]\n",
      " [-7.90880561e-01  1.99106634e-01  3.52845080e-02  1.31362110e-01\n",
      "   2.14157507e-01]\n",
      " [-9.70328569e-01 -1.24848521e+00  1.12305427e+00  5.80952287e-01\n",
      "   4.79096204e-01]\n",
      " [-1.22896028e+00  1.25103641e+00  1.20411861e+00 -1.29092300e+00\n",
      "  -7.38871098e-01]\n",
      " [-7.52482653e-01  4.46152240e-01 -1.27841258e+00 -7.58001804e-01\n",
      "   9.80064034e-01]\n",
      " [-5.45665681e-01 -1.26407087e+00 -7.16311261e-02  1.08579242e+00\n",
      "  -1.16401255e+00]\n",
      " [-1.99850202e-01  1.52109355e-01 -9.13657069e-01 -1.56934655e+00\n",
      "   8.39177608e-01]\n",
      " [-7.33566582e-01  1.16239011e+00  2.87642144e-02 -3.12347710e-01\n",
      "  -8.14639509e-01]\n",
      " [ 4.35131252e-01 -4.54769462e-01 -9.92812455e-01  1.06314886e+00\n",
      "   2.99468040e-01]\n",
      " [ 8.52998853e-01 -4.72357363e-01 -4.29701768e-02 -6.71244502e-01\n",
      "  -1.90551817e-01]\n",
      " [-1.69804704e+00  5.82256854e-01  2.49577701e-01  1.04067624e+00\n",
      "   7.61702836e-01]\n",
      " [-5.57090878e-01 -1.78715706e+00 -1.40817594e-02 -9.84449014e-02\n",
      "  -3.98784667e-01]\n",
      " [-1.32513273e+00 -1.11408389e+00 -1.48508012e+00  2.70783514e-01\n",
      "  -1.02648723e+00]\n",
      " [ 9.58533049e-01  7.33503401e-01  1.87866974e+00  1.19330299e+00\n",
      "  -5.85805960e-02]\n",
      " [-1.62951782e-01  1.22833692e-01  2.64333248e-01  7.92937934e-01\n",
      "   6.71274543e-01]\n",
      " [ 2.32882947e-01  1.86525926e-01 -9.72782373e-01 -8.49681124e-02\n",
      "   1.37097669e+00]\n",
      " [ 1.24453700e+00 -1.57204843e+00 -1.99188888e+00  1.20502388e+00\n",
      "  -1.19632375e+00]\n",
      " [ 5.84353171e-02 -2.38742813e-01  1.28093767e+00 -1.04091477e+00\n",
      "   3.83527786e-01]\n",
      " [-9.16587293e-01  6.45719707e-01 -6.52333081e-01  8.74249101e-01\n",
      "   7.83261597e-01]\n",
      " [-1.63324738e+00 -7.95620158e-02  2.81048775e-01 -4.51849550e-01\n",
      "  -1.03945255e+00]\n",
      " [-9.59388465e-02  4.27163094e-01 -4.60979104e-01  1.81629038e+00\n",
      "   6.89148307e-01]\n",
      " [-2.18112931e-01  1.80666113e+00  5.84628344e-01 -1.14830628e-01\n",
      "  -1.50286627e+00]\n",
      " [ 3.07039410e-01 -1.15306640e+00  8.98258924e-01  6.62692726e-01\n",
      "  -1.11018665e-01]\n",
      " [-3.91472101e-01  2.39946395e-01 -1.57182515e-01  1.30062103e+00\n",
      "  -1.54387045e+00]\n",
      " [ 1.37545252e+00  1.72542000e+00 -1.04201305e+00  7.94569492e-01\n",
      "  -1.35609376e+00]\n",
      " [-1.73267329e+00  9.77994919e-01  1.20580721e+00  1.52712882e+00\n",
      "   1.64710474e+00]\n",
      " [-8.74572098e-01 -8.69270638e-02  3.09754610e-01  7.90402710e-01\n",
      "   5.15563428e-01]\n",
      " [ 4.36458856e-01 -6.30512774e-01  9.58303392e-01  4.70010966e-01\n",
      "  -1.90930650e-01]\n",
      " [ 3.28774720e-01  7.10931599e-01  7.74199963e-01  4.39833179e-02\n",
      "   1.19196999e+00]\n",
      " [-5.26762187e-01 -2.23442316e-01  5.29993773e-01 -1.63012803e+00\n",
      "  -3.51372778e-01]\n",
      " [-9.57791924e-01 -2.01612815e-01 -2.66885143e-02 -7.79237568e-01\n",
      "  -1.59064993e-01]\n",
      " [ 1.30017996e+00  1.57315338e+00 -1.60626280e+00  8.08260798e-01\n",
      "   1.06220806e+00]\n",
      " [-1.92100716e+00 -1.81659162e+00 -1.71371925e+00 -9.78528801e-03\n",
      "  -1.30496740e+00]\n",
      " [ 6.82092369e-01  8.12130570e-01  1.38039958e+00 -7.48932123e-01\n",
      "  -1.35724097e-01]\n",
      " [ 1.32174864e-01 -7.05930650e-01 -1.13988662e+00  1.12855601e+00\n",
      "   1.90390423e-01]]\n"
     ]
    }
   ],
   "source": [
    "init = tf.global_variables_initializer()\n",
    "with tf.Session() as sess:\n",
    "    sess.run(init)\n",
    "    out = sess.run(weights)\n",
    "    print(out)"
   ]
  },
  {
   "cell_type": "code",
   "execution_count": 22,
   "metadata": {},
   "outputs": [
    {
     "data": {
      "text/plain": [
       "(120, 5)"
      ]
     },
     "execution_count": 22,
     "metadata": {},
     "output_type": "execute_result"
    }
   ],
   "source": [
    "out.shape"
   ]
  },
  {
   "cell_type": "code",
   "execution_count": 24,
   "metadata": {},
   "outputs": [
    {
     "data": {
      "text/plain": [
       "0.90964603"
      ]
     },
     "execution_count": 24,
     "metadata": {},
     "output_type": "execute_result"
    }
   ],
   "source": [
    "np.std(out)"
   ]
  },
  {
   "cell_type": "code",
   "execution_count": 25,
   "metadata": {},
   "outputs": [
    {
     "data": {
      "text/plain": [
       "-0.030137472"
      ]
     },
     "execution_count": 25,
     "metadata": {},
     "output_type": "execute_result"
    }
   ],
   "source": [
    "np.mean(out)"
   ]
  },
  {
   "cell_type": "code",
   "execution_count": 26,
   "metadata": {
    "collapsed": true
   },
   "outputs": [],
   "source": [
    "sess = tf.Session()"
   ]
  },
  {
   "cell_type": "code",
   "execution_count": 27,
   "metadata": {
    "collapsed": true
   },
   "outputs": [],
   "source": [
    "zeros = tf.zeros(3)"
   ]
  },
  {
   "cell_type": "code",
   "execution_count": 28,
   "metadata": {},
   "outputs": [
    {
     "data": {
      "text/plain": [
       "array([0., 0., 0.], dtype=float32)"
      ]
     },
     "execution_count": 28,
     "metadata": {},
     "output_type": "execute_result"
    }
   ],
   "source": [
    "sess.run(zeros)"
   ]
  },
  {
   "cell_type": "code",
   "execution_count": 29,
   "metadata": {
    "collapsed": true
   },
   "outputs": [],
   "source": [
    "zeros = tf.zeros((10,2))"
   ]
  },
  {
   "cell_type": "code",
   "execution_count": 30,
   "metadata": {},
   "outputs": [
    {
     "data": {
      "text/plain": [
       "array([[0., 0.],\n",
       "       [0., 0.],\n",
       "       [0., 0.],\n",
       "       [0., 0.],\n",
       "       [0., 0.],\n",
       "       [0., 0.],\n",
       "       [0., 0.],\n",
       "       [0., 0.],\n",
       "       [0., 0.],\n",
       "       [0., 0.]], dtype=float32)"
      ]
     },
     "execution_count": 30,
     "metadata": {},
     "output_type": "execute_result"
    }
   ],
   "source": [
    "sess.run(zeros)"
   ]
  },
  {
   "cell_type": "code",
   "execution_count": 33,
   "metadata": {},
   "outputs": [
    {
     "data": {
      "text/plain": [
       "2.3025851"
      ]
     },
     "execution_count": 33,
     "metadata": {},
     "output_type": "execute_result"
    }
   ],
   "source": [
    "sess.run(tf.log(10.0))"
   ]
  },
  {
   "cell_type": "code",
   "execution_count": 34,
   "metadata": {},
   "outputs": [
    {
     "data": {
      "text/plain": [
       "2.302585092994046"
      ]
     },
     "execution_count": 34,
     "metadata": {},
     "output_type": "execute_result"
    }
   ],
   "source": [
    "np.log(10)"
   ]
  },
  {
   "cell_type": "code",
   "execution_count": 35,
   "metadata": {},
   "outputs": [
    {
     "data": {
      "text/plain": [
       "4.605170185988092"
      ]
     },
     "execution_count": 35,
     "metadata": {},
     "output_type": "execute_result"
    }
   ],
   "source": [
    "np.log(100)"
   ]
  },
  {
   "cell_type": "code",
   "execution_count": 37,
   "metadata": {},
   "outputs": [
    {
     "data": {
      "text/plain": [
       "1.0417597104086331"
      ]
     },
     "execution_count": 37,
     "metadata": {},
     "output_type": "execute_result"
    }
   ],
   "source": [
    "np.log(2.8342)"
   ]
  },
  {
   "cell_type": "code",
   "execution_count": 38,
   "metadata": {
    "collapsed": true
   },
   "outputs": [],
   "source": [
    "softmax_data = [0.7, 0.2, 0.1]\n",
    "one_hot_data = [1.0, 0.0, 0.0]\n",
    "\n",
    "softmax = tf.placeholder(tf.float32)\n",
    "one_hot = tf.placeholder(tf.float32)\n",
    "\n",
    "# TODO: Print cross entropy from session\n"
   ]
  },
  {
   "cell_type": "code",
   "execution_count": 44,
   "metadata": {},
   "outputs": [],
   "source": [
    "CE_softmax = tf.reduce_sum(-tf.log(tf.placeholder(softmax)))\n",
    "CE_one_hot = tf.reduce_sum(-tf.log(tf.placeholder(one_hot)))"
   ]
  },
  {
   "cell_type": "code",
   "execution_count": 46,
   "metadata": {},
   "outputs": [
    {
     "ename": "PermissionDeniedError",
     "evalue": "/datasets",
     "output_type": "error",
     "traceback": [
      "\u001b[0;31m---------------------------------------------------------------------------\u001b[0m",
      "\u001b[0;31mPermissionDeniedError\u001b[0m                     Traceback (most recent call last)",
      "\u001b[0;32m<ipython-input-46-38193f8bcdd3>\u001b[0m in \u001b[0;36m<module>\u001b[0;34m()\u001b[0m\n\u001b[1;32m      6\u001b[0m \u001b[0;34m\u001b[0m\u001b[0m\n\u001b[1;32m      7\u001b[0m \u001b[0;31m# Import MNIST data\u001b[0m\u001b[0;34m\u001b[0m\u001b[0;34m\u001b[0m\u001b[0m\n\u001b[0;32m----> 8\u001b[0;31m \u001b[0mmnist\u001b[0m \u001b[0;34m=\u001b[0m \u001b[0minput_data\u001b[0m\u001b[0;34m.\u001b[0m\u001b[0mread_data_sets\u001b[0m\u001b[0;34m(\u001b[0m\u001b[0;34m'/datasets/ud730/mnist'\u001b[0m\u001b[0;34m,\u001b[0m \u001b[0mone_hot\u001b[0m\u001b[0;34m=\u001b[0m\u001b[0;32mTrue\u001b[0m\u001b[0;34m)\u001b[0m\u001b[0;34m\u001b[0m\u001b[0m\n\u001b[0m\u001b[1;32m      9\u001b[0m \u001b[0;34m\u001b[0m\u001b[0m\n\u001b[1;32m     10\u001b[0m \u001b[0;31m# The features are already scaled and the data is shuffled\u001b[0m\u001b[0;34m\u001b[0m\u001b[0;34m\u001b[0m\u001b[0m\n",
      "\u001b[0;32m~/anaconda3/lib/python3.6/site-packages/tensorflow/contrib/learn/python/learn/datasets/mnist.py\u001b[0m in \u001b[0;36mread_data_sets\u001b[0;34m(train_dir, fake_data, one_hot, dtype, reshape, validation_size)\u001b[0m\n\u001b[1;32m    209\u001b[0m \u001b[0;34m\u001b[0m\u001b[0m\n\u001b[1;32m    210\u001b[0m   local_file = base.maybe_download(TRAIN_IMAGES, train_dir,\n\u001b[0;32m--> 211\u001b[0;31m                                    SOURCE_URL + TRAIN_IMAGES)\n\u001b[0m\u001b[1;32m    212\u001b[0m   \u001b[0;32mwith\u001b[0m \u001b[0mopen\u001b[0m\u001b[0;34m(\u001b[0m\u001b[0mlocal_file\u001b[0m\u001b[0;34m,\u001b[0m \u001b[0;34m'rb'\u001b[0m\u001b[0;34m)\u001b[0m \u001b[0;32mas\u001b[0m \u001b[0mf\u001b[0m\u001b[0;34m:\u001b[0m\u001b[0;34m\u001b[0m\u001b[0m\n\u001b[1;32m    213\u001b[0m     \u001b[0mtrain_images\u001b[0m \u001b[0;34m=\u001b[0m \u001b[0mextract_images\u001b[0m\u001b[0;34m(\u001b[0m\u001b[0mf\u001b[0m\u001b[0;34m)\u001b[0m\u001b[0;34m\u001b[0m\u001b[0m\n",
      "\u001b[0;32m~/anaconda3/lib/python3.6/site-packages/tensorflow/contrib/learn/python/learn/datasets/base.py\u001b[0m in \u001b[0;36mmaybe_download\u001b[0;34m(filename, work_directory, source_url)\u001b[0m\n\u001b[1;32m    203\u001b[0m   \"\"\"\n\u001b[1;32m    204\u001b[0m   \u001b[0;32mif\u001b[0m \u001b[0;32mnot\u001b[0m \u001b[0mgfile\u001b[0m\u001b[0;34m.\u001b[0m\u001b[0mExists\u001b[0m\u001b[0;34m(\u001b[0m\u001b[0mwork_directory\u001b[0m\u001b[0;34m)\u001b[0m\u001b[0;34m:\u001b[0m\u001b[0;34m\u001b[0m\u001b[0m\n\u001b[0;32m--> 205\u001b[0;31m     \u001b[0mgfile\u001b[0m\u001b[0;34m.\u001b[0m\u001b[0mMakeDirs\u001b[0m\u001b[0;34m(\u001b[0m\u001b[0mwork_directory\u001b[0m\u001b[0;34m)\u001b[0m\u001b[0;34m\u001b[0m\u001b[0m\n\u001b[0m\u001b[1;32m    206\u001b[0m   \u001b[0mfilepath\u001b[0m \u001b[0;34m=\u001b[0m \u001b[0mos\u001b[0m\u001b[0;34m.\u001b[0m\u001b[0mpath\u001b[0m\u001b[0;34m.\u001b[0m\u001b[0mjoin\u001b[0m\u001b[0;34m(\u001b[0m\u001b[0mwork_directory\u001b[0m\u001b[0;34m,\u001b[0m \u001b[0mfilename\u001b[0m\u001b[0;34m)\u001b[0m\u001b[0;34m\u001b[0m\u001b[0m\n\u001b[1;32m    207\u001b[0m   \u001b[0;32mif\u001b[0m \u001b[0;32mnot\u001b[0m \u001b[0mgfile\u001b[0m\u001b[0;34m.\u001b[0m\u001b[0mExists\u001b[0m\u001b[0;34m(\u001b[0m\u001b[0mfilepath\u001b[0m\u001b[0;34m)\u001b[0m\u001b[0;34m:\u001b[0m\u001b[0;34m\u001b[0m\u001b[0m\n",
      "\u001b[0;32m~/anaconda3/lib/python3.6/site-packages/tensorflow/python/lib/io/file_io.py\u001b[0m in \u001b[0;36mrecursive_create_dir\u001b[0;34m(dirname)\u001b[0m\n\u001b[1;32m    299\u001b[0m   \"\"\"\n\u001b[1;32m    300\u001b[0m   \u001b[0;32mwith\u001b[0m \u001b[0merrors\u001b[0m\u001b[0;34m.\u001b[0m\u001b[0mraise_exception_on_not_ok_status\u001b[0m\u001b[0;34m(\u001b[0m\u001b[0;34m)\u001b[0m \u001b[0;32mas\u001b[0m \u001b[0mstatus\u001b[0m\u001b[0;34m:\u001b[0m\u001b[0;34m\u001b[0m\u001b[0m\n\u001b[0;32m--> 301\u001b[0;31m     \u001b[0mpywrap_tensorflow\u001b[0m\u001b[0;34m.\u001b[0m\u001b[0mRecursivelyCreateDir\u001b[0m\u001b[0;34m(\u001b[0m\u001b[0mcompat\u001b[0m\u001b[0;34m.\u001b[0m\u001b[0mas_bytes\u001b[0m\u001b[0;34m(\u001b[0m\u001b[0mdirname\u001b[0m\u001b[0;34m)\u001b[0m\u001b[0;34m,\u001b[0m \u001b[0mstatus\u001b[0m\u001b[0;34m)\u001b[0m\u001b[0;34m\u001b[0m\u001b[0m\n\u001b[0m\u001b[1;32m    302\u001b[0m \u001b[0;34m\u001b[0m\u001b[0m\n\u001b[1;32m    303\u001b[0m \u001b[0;34m\u001b[0m\u001b[0m\n",
      "\u001b[0;32m~/anaconda3/lib/python3.6/contextlib.py\u001b[0m in \u001b[0;36m__exit__\u001b[0;34m(self, type, value, traceback)\u001b[0m\n\u001b[1;32m     86\u001b[0m         \u001b[0;32mif\u001b[0m \u001b[0mtype\u001b[0m \u001b[0;32mis\u001b[0m \u001b[0;32mNone\u001b[0m\u001b[0;34m:\u001b[0m\u001b[0;34m\u001b[0m\u001b[0m\n\u001b[1;32m     87\u001b[0m             \u001b[0;32mtry\u001b[0m\u001b[0;34m:\u001b[0m\u001b[0;34m\u001b[0m\u001b[0m\n\u001b[0;32m---> 88\u001b[0;31m                 \u001b[0mnext\u001b[0m\u001b[0;34m(\u001b[0m\u001b[0mself\u001b[0m\u001b[0;34m.\u001b[0m\u001b[0mgen\u001b[0m\u001b[0;34m)\u001b[0m\u001b[0;34m\u001b[0m\u001b[0m\n\u001b[0m\u001b[1;32m     89\u001b[0m             \u001b[0;32mexcept\u001b[0m \u001b[0mStopIteration\u001b[0m\u001b[0;34m:\u001b[0m\u001b[0;34m\u001b[0m\u001b[0m\n\u001b[1;32m     90\u001b[0m                 \u001b[0;32mreturn\u001b[0m \u001b[0;32mFalse\u001b[0m\u001b[0;34m\u001b[0m\u001b[0m\n",
      "\u001b[0;32m~/anaconda3/lib/python3.6/site-packages/tensorflow/python/framework/errors_impl.py\u001b[0m in \u001b[0;36mraise_exception_on_not_ok_status\u001b[0;34m()\u001b[0m\n\u001b[1;32m    464\u001b[0m           \u001b[0;32mNone\u001b[0m\u001b[0;34m,\u001b[0m \u001b[0;32mNone\u001b[0m\u001b[0;34m,\u001b[0m\u001b[0;34m\u001b[0m\u001b[0m\n\u001b[1;32m    465\u001b[0m           \u001b[0mcompat\u001b[0m\u001b[0;34m.\u001b[0m\u001b[0mas_text\u001b[0m\u001b[0;34m(\u001b[0m\u001b[0mpywrap_tensorflow\u001b[0m\u001b[0;34m.\u001b[0m\u001b[0mTF_Message\u001b[0m\u001b[0;34m(\u001b[0m\u001b[0mstatus\u001b[0m\u001b[0;34m)\u001b[0m\u001b[0;34m)\u001b[0m\u001b[0;34m,\u001b[0m\u001b[0;34m\u001b[0m\u001b[0m\n\u001b[0;32m--> 466\u001b[0;31m           pywrap_tensorflow.TF_GetCode(status))\n\u001b[0m\u001b[1;32m    467\u001b[0m   \u001b[0;32mfinally\u001b[0m\u001b[0;34m:\u001b[0m\u001b[0;34m\u001b[0m\u001b[0m\n\u001b[1;32m    468\u001b[0m     \u001b[0mpywrap_tensorflow\u001b[0m\u001b[0;34m.\u001b[0m\u001b[0mTF_DeleteStatus\u001b[0m\u001b[0;34m(\u001b[0m\u001b[0mstatus\u001b[0m\u001b[0;34m)\u001b[0m\u001b[0;34m\u001b[0m\u001b[0m\n",
      "\u001b[0;31mPermissionDeniedError\u001b[0m: /datasets"
     ]
    }
   ],
   "source": [
    "from tensorflow.examples.tutorials.mnist import input_data\n",
    "import tensorflow as tf\n",
    "\n",
    "n_input = 784  # MNIST data input (img shape: 28*28)\n",
    "n_classes = 10  # MNIST total classes (0-9 digits)\n",
    "\n",
    "# Import MNIST data\n",
    "mnist = input_data.read_data_sets('/datasets/ud730/mnist', one_hot=True)\n",
    "\n",
    "# The features are already scaled and the data is shuffled\n",
    "train_features = mnist.train.images\n",
    "test_features = mnist.test.images\n",
    "\n",
    "train_labels = mnist.train.labels.astype(np.float32)\n",
    "test_labels = mnist.test.labels.astype(np.float32)\n",
    "\n",
    "# Weights & bias\n",
    "weights = tf.Variable(tf.random_normal([n_input, n_classes]))\n",
    "bias = tf.Variable(tf.random_normal([n_classes]))"
   ]
  },
  {
   "cell_type": "code",
   "execution_count": 50,
   "metadata": {},
   "outputs": [
    {
     "data": {
      "text/plain": [
       "673750.0"
      ]
     },
     "execution_count": 50,
     "metadata": {},
     "output_type": "execute_result"
    }
   ],
   "source": [
    "55000*784*32/8/256"
   ]
  },
  {
   "cell_type": "code",
   "execution_count": 51,
   "metadata": {},
   "outputs": [
    {
     "data": {
      "text/plain": [
       "array([[-1.57045   ,  0.82416546, -0.17996334],\n",
       "       [ 1.7751507 ,  1.5353048 , -1.2379563 ]], dtype=float32)"
      ]
     },
     "execution_count": 51,
     "metadata": {},
     "output_type": "execute_result"
    }
   ],
   "source": [
    "sess.run(tf.truncated_normal([2,3]))"
   ]
  },
  {
   "cell_type": "code",
   "execution_count": 52,
   "metadata": {},
   "outputs": [
    {
     "data": {
      "text/plain": [
       "390.625"
      ]
     },
     "execution_count": 52,
     "metadata": {},
     "output_type": "execute_result"
    }
   ],
   "source": [
    "50000/128"
   ]
  },
  {
   "cell_type": "code",
   "execution_count": 53,
   "metadata": {},
   "outputs": [
    {
     "data": {
      "text/plain": [
       "80"
      ]
     },
     "execution_count": 53,
     "metadata": {},
     "output_type": "execute_result"
    }
   ],
   "source": [
    "50000%128"
   ]
  },
  {
   "cell_type": "code",
   "execution_count": 54,
   "metadata": {},
   "outputs": [
    {
     "data": {
      "text/plain": [
       "range(0, 10, 4)"
      ]
     },
     "execution_count": 54,
     "metadata": {},
     "output_type": "execute_result"
    }
   ],
   "source": [
    "range(0, 10, 4)"
   ]
  },
  {
   "cell_type": "code",
   "execution_count": 55,
   "metadata": {},
   "outputs": [
    {
     "data": {
      "text/plain": [
       "[0, 4, 8]"
      ]
     },
     "execution_count": 55,
     "metadata": {},
     "output_type": "execute_result"
    }
   ],
   "source": [
    "list(range(0, 10, 4))"
   ]
  },
  {
   "cell_type": "code",
   "execution_count": 58,
   "metadata": {},
   "outputs": [
    {
     "data": {
      "text/plain": [
       "[1, 34, 21]"
      ]
     },
     "execution_count": 58,
     "metadata": {},
     "output_type": "execute_result"
    }
   ],
   "source": [
    "[1,34,21][0:10]"
   ]
  },
  {
   "cell_type": "code",
   "execution_count": 59,
   "metadata": {},
   "outputs": [
    {
     "data": {
      "text/plain": [
       "784"
      ]
     },
     "execution_count": 59,
     "metadata": {},
     "output_type": "execute_result"
    }
   ],
   "source": [
    "28*28"
   ]
  },
  {
   "cell_type": "code",
   "execution_count": 60,
   "metadata": {
    "collapsed": true
   },
   "outputs": [],
   "source": [
    "x,y = [12,3]"
   ]
  },
  {
   "cell_type": "code",
   "execution_count": 61,
   "metadata": {},
   "outputs": [
    {
     "data": {
      "text/plain": [
       "12"
      ]
     },
     "execution_count": 61,
     "metadata": {},
     "output_type": "execute_result"
    }
   ],
   "source": [
    "x"
   ]
  },
  {
   "cell_type": "code",
   "execution_count": 62,
   "metadata": {},
   "outputs": [
    {
     "data": {
      "text/plain": [
       "3"
      ]
     },
     "execution_count": 62,
     "metadata": {},
     "output_type": "execute_result"
    }
   ],
   "source": [
    "y"
   ]
  },
  {
   "cell_type": "code",
   "execution_count": null,
   "metadata": {
    "collapsed": true
   },
   "outputs": [],
   "source": []
  }
 ],
 "metadata": {
  "kernelspec": {
   "display_name": "Python 3",
   "language": "python",
   "name": "python3"
  },
  "language_info": {
   "codemirror_mode": {
    "name": "ipython",
    "version": 3
   },
   "file_extension": ".py",
   "mimetype": "text/x-python",
   "name": "python",
   "nbconvert_exporter": "python",
   "pygments_lexer": "ipython3",
   "version": "3.6.3"
  }
 },
 "nbformat": 4,
 "nbformat_minor": 2
}
